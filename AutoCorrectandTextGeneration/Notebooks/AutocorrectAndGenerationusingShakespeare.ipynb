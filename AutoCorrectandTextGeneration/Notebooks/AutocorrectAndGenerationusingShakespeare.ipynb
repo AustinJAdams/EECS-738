{
 "cells": [
  {
   "cell_type": "code",
   "execution_count": 1,
   "metadata": {},
   "outputs": [],
   "source": [
    "import numpy as np\n",
    "import pandas as pd\n",
    "import string\n",
    "import random"
   ]
  },
  {
   "cell_type": "code",
   "execution_count": 2,
   "metadata": {},
   "outputs": [],
   "source": [
    "training_data_file = 'alllines.txt'"
   ]
  },
  {
   "cell_type": "markdown",
   "metadata": {},
   "source": [
    "## Creating Word Dictionaries"
   ]
  },
  {
   "cell_type": "markdown",
   "metadata": {},
   "source": [
    "First, we wanted to calculate the total amount of words to see if a matrix of all the words would be quicker, as array is much faster than a dictionary, but would require a square matrix. Since this matrix would be increasing by n * n cells each time and many would be zero, a dictionary, though computationally slower, would only enter required numbers and be faster.\n",
    "\n",
    "Next, we look for the values that appear one and two after a given key. We make a dictionary that shows the amount of times a word has showed up after a previous word for all times a word appears. We do this for one step away and two steps away"
   ]
  },
  {
   "cell_type": "code",
   "execution_count": 3,
   "metadata": {},
   "outputs": [],
   "source": [
    "#This takes a while, so don't update it unless you want to see if it works\n",
    "totalwords = []\n",
    "for line in open(training_data_file):\n",
    "    #Create Stripped Sentences\n",
    "    line = line.rstrip().lower()\n",
    "    tokens = line.translate(str.maketrans('','', string.punctuation)).split()\n",
    "    length = len(tokens)\n",
    "    for i in range(length):\n",
    "        token = tokens[i]\n",
    "        if token not in totalwords:\n",
    "            totalwords.append(token)"
   ]
  },
  {
   "cell_type": "code",
   "execution_count": 4,
   "metadata": {},
   "outputs": [
    {
     "data": {
      "text/plain": [
       "27381"
      ]
     },
     "execution_count": 4,
     "metadata": {},
     "output_type": "execute_result"
    }
   ],
   "source": [
    "len(totalwords)"
   ]
  },
  {
   "cell_type": "code",
   "execution_count": 5,
   "metadata": {},
   "outputs": [],
   "source": [
    "words = {}\n",
    "for line in open(training_data_file):\n",
    "    #Create Stripped Sentences\n",
    "    line = line.rstrip().lower()\n",
    "    tokens = line.translate(str.maketrans('','', string.punctuation)).split()\n",
    "    length = len(tokens)\n",
    "    for i in range(length):\n",
    "        token = tokens[i]\n",
    "        if i == length - 1:\n",
    "            pass\n",
    "        else:    \n",
    "            next_word = tokens[i+1]\n",
    "            if token not in words:\n",
    "                words[token] = {next_word: 1}\n",
    "            else:\n",
    "                if next_word not in words[token]:\n",
    "                    words[token][next_word] = 1\n",
    "                else:\n",
    "                    words[token][next_word] = words[token][next_word] + 1"
   ]
  },
  {
   "cell_type": "code",
   "execution_count": 6,
   "metadata": {},
   "outputs": [],
   "source": [
    "two_words = {}\n",
    "for line in open(training_data_file):\n",
    "    #Create Stripped Sentences\n",
    "    line = line.rstrip().lower()\n",
    "    tokens = line.translate(str.maketrans('','', string.punctuation)).split()\n",
    "    length = len(tokens)\n",
    "    for i in range(length):\n",
    "        token = tokens[i]\n",
    "        if length <= 2:\n",
    "            pass\n",
    "        else:\n",
    "            if i >= length - 2:\n",
    "                pass\n",
    "            else:\n",
    "                next_word = tokens[i+2]\n",
    "                if token not in two_words:\n",
    "                    two_words[token] = {next_word: 1}\n",
    "                else:\n",
    "                    if next_word not in two_words[token]:\n",
    "                        two_words[token][next_word] = 1\n",
    "                    else:\n",
    "                        two_words[token][next_word] = two_words[token][next_word] + 1"
   ]
  },
  {
   "cell_type": "code",
   "execution_count": 7,
   "metadata": {},
   "outputs": [],
   "source": [
    "#This is needed, because it will help for sentence creation later.\n",
    "first_words = {}\n",
    "for line in open(training_data_file):\n",
    "    #Create Stripped Sentences\n",
    "    line = line.rstrip().lower()\n",
    "    tokens = line.translate(str.maketrans('','', string.punctuation)).split()\n",
    "    if len(tokens) > 0:\n",
    "        token = tokens[0]\n",
    "        if token not in first_words:\n",
    "            first_words[token] = 1\n",
    "        else:\n",
    "            first_words[token]+=1"
   ]
  },
  {
   "cell_type": "markdown",
   "metadata": {},
   "source": [
    "## Using the Word Dictionaries To Create Probability Dictionaries"
   ]
  },
  {
   "cell_type": "markdown",
   "metadata": {},
   "source": [
    "Now we must normalize the probabilites so that both the previous and previous previous word have the same probabilistic power."
   ]
  },
  {
   "cell_type": "code",
   "execution_count": 8,
   "metadata": {},
   "outputs": [],
   "source": [
    "#Re-running this requires all the dictionaries to be made again\n",
    "total = 0\n",
    "for w in words:\n",
    "    for j in words[w]:\n",
    "        total += words[w][j]\n",
    "    for j in words[w]:\n",
    "        words[w][j] = words[w][j] / total\n",
    "total = 0\n",
    "for w in two_words:\n",
    "    for j in two_words[w]:\n",
    "        total += two_words[w][j]\n",
    "    for j in two_words[w]:\n",
    "        two_words[w][j] = two_words[w][j] / total"
   ]
  },
  {
   "cell_type": "markdown",
   "metadata": {},
   "source": [
    "## Time To Create a System To Calculate the Joint Probability and Maximize that"
   ]
  },
  {
   "cell_type": "code",
   "execution_count": 9,
   "metadata": {},
   "outputs": [],
   "source": [
    "def create_probability(x, total):\n",
    "    return x / total"
   ]
  },
  {
   "cell_type": "code",
   "execution_count": 10,
   "metadata": {},
   "outputs": [],
   "source": [
    "def word_guesser(phrase):\n",
    "    y = phrase.lower().split()\n",
    "    \n",
    "    #Sample the last word from the one away dictionary\n",
    "    first = words[y[-1]]\n",
    "    \n",
    "    #Sample the second to last word from the two away dictionary\n",
    "    second = two_words[y[-2]]\n",
    "    guess_dict = {}\n",
    "    \n",
    "    #Multiply the like-words together. If it is not present in both word dictionaries, it is set to zero\n",
    "    for x in first:\n",
    "        if x not in second:\n",
    "            guess_dict[x] = 0\n",
    "        else:\n",
    "            guess_dict[x] = first[x] * second[x]\n",
    "    frame = pd.DataFrame.from_dict(guess_dict, orient = 'index')\n",
    "    \n",
    "    #We now want to create sample probability from the sample values\n",
    "    prob_func = frame.apply(create_probability, args = (frame[0].sum(),)).copy()\n",
    "    \n",
    "    #Only non-zero considered for speed\n",
    "    non_zero = prob_func[prob_func[0] > 0].copy()\n",
    "    \n",
    "    #This uses the calculated sample weights to sample from a distribution, so that it does not always return the same value\n",
    "    k = random.choices(non_zero.index, non_zero[0])\n",
    "    \n",
    "    #Just to ensure no words are repeated\n",
    "    while k[0] == y[-1]:\n",
    "        k = random.choices(non_zero.index, non_zero[0])\n",
    "    \n",
    "    return(k[0])"
   ]
  },
  {
   "cell_type": "code",
   "execution_count": 11,
   "metadata": {},
   "outputs": [
    {
     "data": {
      "text/plain": [
       "'not'"
      ]
     },
     "execution_count": 11,
     "metadata": {},
     "output_type": "execute_result"
    }
   ],
   "source": [
    "word_guesser('I am')"
   ]
  },
  {
   "cell_type": "code",
   "execution_count": 12,
   "metadata": {},
   "outputs": [
    {
     "data": {
      "text/plain": [
       "'so'"
      ]
     },
     "execution_count": 12,
     "metadata": {},
     "output_type": "execute_result"
    }
   ],
   "source": [
    "word_guesser('I am not')"
   ]
  },
  {
   "cell_type": "code",
   "execution_count": 18,
   "metadata": {},
   "outputs": [
    {
     "data": {
      "text/plain": [
       "'but'"
      ]
     },
     "execution_count": 18,
     "metadata": {},
     "output_type": "execute_result"
    }
   ],
   "source": [
    "word_guesser('I am a not so')"
   ]
  },
  {
   "cell_type": "markdown",
   "metadata": {},
   "source": [
    "# Now, let us use this word_guesser to create sentences"
   ]
  },
  {
   "cell_type": "code",
   "execution_count": 14,
   "metadata": {},
   "outputs": [],
   "source": [
    "#First, we take the dictionary of all words that are first in the sentence and create a probability distribution out of it\n",
    "#This essentially gives us likely words to start a sentence\n",
    "first_words_frame = pd.DataFrame.from_dict(first_words, orient = 'index')\n",
    "first_words_func = first_words_frame.apply(create_probability, args = (first_words_frame[0].sum(),))"
   ]
  },
  {
   "cell_type": "code",
   "execution_count": 15,
   "metadata": {},
   "outputs": [],
   "source": [
    "def generation(size):\n",
    "    for y in range(0, size):\n",
    "        first = random.choices(first_words_func.index, first_words_func[0])[0]\n",
    "        \n",
    "        #Here we sample the one word previous dictionary to get a likely word from the word that starts the sentence \n",
    "        second_frame = pd.DataFrame.from_dict(words[first], orient = 'index')\n",
    "        second = random.choices(second_frame.index, second_frame[0])[0]\n",
    "        \n",
    "        z = first + ' ' + second\n",
    "        #Now that we have sampled those two words, we can use the previous process and just add to the string\n",
    "        for x in range(0,8):\n",
    "            z = z +  ' ' + word_guesser(z)\n",
    "        print(z)\n",
    "        print('\\n')   "
   ]
  },
  {
   "cell_type": "code",
   "execution_count": 16,
   "metadata": {
    "scrolled": true
   },
   "outputs": [
    {
     "name": "stdout",
     "output_type": "stream",
     "text": [
      "enter nerissa and i am glad to the king your\n",
      "\n",
      "\n",
      "urge you your good my good master i will be\n",
      "\n",
      "\n",
      "marry sweet sir i cannot be the full of his\n",
      "\n",
      "\n",
      "nor tent i pray you my love and i shall\n",
      "\n",
      "\n",
      "not furnishd with the lords of the very king and\n",
      "\n",
      "\n"
     ]
    }
   ],
   "source": [
    "#Generation takes parameter of the amount of sentences you want\n",
    "generation(5)"
   ]
  },
  {
   "cell_type": "code",
   "execution_count": 17,
   "metadata": {},
   "outputs": [
    {
     "name": "stdout",
     "output_type": "stream",
     "text": [
      "o brutus my lord my lord and all this and\n",
      "\n",
      "\n",
      "bowstring and the kings of a suit of thy head\n",
      "\n",
      "\n",
      "when to do you sir i will not with the\n",
      "\n",
      "\n",
      "or that my woman of a great and i shall\n",
      "\n",
      "\n",
      "of love and your bed and in the king of\n",
      "\n",
      "\n"
     ]
    }
   ],
   "source": [
    "generation(5)"
   ]
  },
  {
   "cell_type": "code",
   "execution_count": null,
   "metadata": {},
   "outputs": [],
   "source": []
  }
 ],
 "metadata": {
  "kernelspec": {
   "display_name": "Python 3",
   "language": "python",
   "name": "python3"
  },
  "language_info": {
   "codemirror_mode": {
    "name": "ipython",
    "version": 3
   },
   "file_extension": ".py",
   "mimetype": "text/x-python",
   "name": "python",
   "nbconvert_exporter": "python",
   "pygments_lexer": "ipython3",
   "version": "3.7.1"
  }
 },
 "nbformat": 4,
 "nbformat_minor": 2
}
