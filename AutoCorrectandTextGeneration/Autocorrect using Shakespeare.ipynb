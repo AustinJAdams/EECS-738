{
 "cells": [
  {
   "cell_type": "code",
   "execution_count": 131,
   "metadata": {
    "collapsed": true
   },
   "outputs": [],
   "source": [
    "import numpy as np\n",
    "import string\n",
    "import pandas as pd"
   ]
  },
  {
   "cell_type": "code",
   "execution_count": 7,
   "metadata": {
    "collapsed": true
   },
   "outputs": [],
   "source": [
    "training_data_file = 'alllines.txt'"
   ]
  },
  {
   "cell_type": "markdown",
   "metadata": {},
   "source": [
    "## Creating Word Dictionaries"
   ]
  },
  {
   "cell_type": "markdown",
   "metadata": {},
   "source": [
    "First, we wanted to calculate the total amount of words to see if a matrix of all the words would be quicker, as array is much faster than a dictionary, but would require a square matrix. Since this matrix would be increasing by n * n cells each time and many would be zero, a dictionary, though computationally slower, would only enter required numbers and be faster.\n",
    "\n",
    "Next, we look for the values that appear one and two after a given key. We make a dictionary that shows the amount of times a word has showed up after a previous word for all times a word appears. We do this for one step away and two steps away"
   ]
  },
  {
   "cell_type": "code",
   "execution_count": 108,
   "metadata": {},
   "outputs": [],
   "source": [
    "#This takes a while, so don't update it unless you want to see if it works\n",
    "totalwords = []\n",
    "for line in open(training_data_file):\n",
    "    #Create Stripped Sentences\n",
    "    line = line.rstrip().lower()\n",
    "    tokens = line.translate(str.maketrans('','', string.punctuation)).split()\n",
    "    length = len(tokens)\n",
    "    for i in range(length):\n",
    "        token = tokens[i]\n",
    "        if token not in totalwords:\n",
    "            totalwords.append(token)"
   ]
  },
  {
   "cell_type": "code",
   "execution_count": 109,
   "metadata": {},
   "outputs": [
    {
     "data": {
      "text/plain": [
       "27381"
      ]
     },
     "execution_count": 109,
     "metadata": {},
     "output_type": "execute_result"
    }
   ],
   "source": [
    "len(totalwords)"
   ]
  },
  {
   "cell_type": "code",
   "execution_count": 110,
   "metadata": {},
   "outputs": [],
   "source": [
    "words = {}\n",
    "for line in open(training_data_file):\n",
    "    #Create Stripped Sentences\n",
    "    line = line.rstrip().lower()\n",
    "    tokens = line.translate(str.maketrans('','', string.punctuation)).split()\n",
    "    length = len(tokens)\n",
    "    for i in range(length):\n",
    "        token = tokens[i]\n",
    "        if i == length - 1:\n",
    "            pass\n",
    "        else:    \n",
    "            next_word = tokens[i+1]\n",
    "            if token not in words:\n",
    "                words[token] = {next_word: 1}\n",
    "            else:\n",
    "                if next_word not in words[token]:\n",
    "                    words[token][next_word] = 1\n",
    "                else:\n",
    "                    words[token][next_word] = words[token][next_word] + 1"
   ]
  },
  {
   "cell_type": "code",
   "execution_count": 111,
   "metadata": {},
   "outputs": [],
   "source": [
    "two_words = {}\n",
    "for line in open(training_data_file):\n",
    "    #Create Stripped Sentences\n",
    "    line = line.rstrip().lower()\n",
    "    tokens = line.translate(str.maketrans('','', string.punctuation)).split()\n",
    "    length = len(tokens)\n",
    "    for i in range(length):\n",
    "        token = tokens[i]\n",
    "        if length <= 2:\n",
    "            pass\n",
    "        else:\n",
    "            if i >= length - 2:\n",
    "                pass\n",
    "            else:\n",
    "                next_word = tokens[i+2]\n",
    "                if token not in two_words:\n",
    "                    two_words[token] = {next_word: 1}\n",
    "                else:\n",
    "                    if next_word not in two_words[token]:\n",
    "                        two_words[token][next_word] = 1\n",
    "                    else:\n",
    "                        two_words[token][next_word] = two_words[token][next_word] + 1"
   ]
  },
  {
   "cell_type": "markdown",
   "metadata": {},
   "source": [
    "## Using the Word Dictionaries To Create Probability Dictionaries"
   ]
  },
  {
   "cell_type": "markdown",
   "metadata": {},
   "source": [
    "Now we must normalize the probabilites so that both the previous and previous previous word have the same probabilistic power."
   ]
  },
  {
   "cell_type": "code",
   "execution_count": 112,
   "metadata": {},
   "outputs": [],
   "source": [
    "total = 0\n",
    "for w in words:\n",
    "    for j in words[w]:\n",
    "        total += words[w][j]\n",
    "    for j in words[w]:\n",
    "        words[w][j] = words[w][j] / total"
   ]
  },
  {
   "cell_type": "markdown",
   "metadata": {},
   "source": [
    "## Time To Create a System To Calculate the Joint Probability and Maximize that"
   ]
  },
  {
   "cell_type": "code",
   "execution_count": 72,
   "metadata": {
    "collapsed": true
   },
   "outputs": [],
   "source": [
    "words = {}\n",
    "for line in open(training_data_file):\n",
    "    #Create Stripped Sentences\n",
    "    line = line.rstrip().lower()\n",
    "    tokens = line.translate(str.maketrans('','', string.punctuation)).split()\n",
    "    length = len(tokens)\n",
    "    for i in range(length):\n",
    "        token = tokens[i]\n",
    "        if i == length - 1:\n",
    "            pass\n",
    "        else:    \n",
    "            next_word = tokens[i+1]\n",
    "            if token not in words:\n",
    "                words[token] = {next_word: 1}\n",
    "            else:\n",
    "                if next_word not in words[token]:\n",
    "                    words[token][next_word] = 1\n",
    "                else:\n",
    "                    words[token][next_word] = words[token][next_word] + 1"
   ]
  },
  {
   "cell_type": "code",
   "execution_count": 178,
   "metadata": {},
   "outputs": [],
   "source": [
    "def word_guesser(phrase):\n",
    "    y = phrase.lower().split()\n",
    "    first = words[y[-1]]\n",
    "    second = words[y[-2]]\n",
    "    guess_dict = {}\n",
    "    for x in first:\n",
    "        if x not in second:\n",
    "            guess_dict[x] = 0\n",
    "        else:\n",
    "            guess_dict[x] = first[x] * second[x]\n",
    "    frame = pd.DataFrame.from_dict(guess_dict, orient = 'index')\n",
    "    guess = frame[0].sort_values(ascending = False)\n",
    "    print(guess.index[0])"
   ]
  },
  {
   "cell_type": "code",
   "execution_count": 179,
   "metadata": {},
   "outputs": [
    {
     "name": "stdout",
     "output_type": "stream",
     "text": [
      "the\n"
     ]
    }
   ],
   "source": [
    "word_guesser('I am')"
   ]
  },
  {
   "cell_type": "code",
   "execution_count": 184,
   "metadata": {},
   "outputs": [
    {
     "name": "stdout",
     "output_type": "stream",
     "text": [
      "king\n"
     ]
    }
   ],
   "source": [
    "word_guesser('I am the')"
   ]
  },
  {
   "cell_type": "code",
   "execution_count": null,
   "metadata": {},
   "outputs": [],
   "source": []
  },
  {
   "cell_type": "code",
   "execution_count": null,
   "metadata": {},
   "outputs": [],
   "source": []
  },
  {
   "cell_type": "code",
   "execution_count": null,
   "metadata": {},
   "outputs": [],
   "source": []
  },
  {
   "cell_type": "code",
   "execution_count": null,
   "metadata": {},
   "outputs": [],
   "source": []
  },
  {
   "cell_type": "code",
   "execution_count": null,
   "metadata": {
    "collapsed": true
   },
   "outputs": [],
   "source": [
    "#Previous work in case I need it\n",
    "'''words = {}\n",
    "for line in open(training_data_file):\n",
    "    #Create Stripped Sentences\n",
    "    line = line.rstrip().lower()\n",
    "    tokens = line.translate(str.maketrans('','', string.punctuation)).split()\n",
    "    length = len(tokens)\n",
    "    for i in range(length):\n",
    "        token = tokens[i]\n",
    "        if i == 0:\n",
    "            pass\n",
    "        elif i == length - 1:\n",
    "            pass\n",
    "        else:    \n",
    "            previous = tokens[i-1]\n",
    "            if token not in words:\n",
    "                words[token] = {previous: 1}\n",
    "            else:\n",
    "                if previous not in words[token]:\n",
    "                    words[token][previous] = 1\n",
    "                else:\n",
    "                    value = words[token][previous] \n",
    "                    words[token][previous] = value + 1\n",
    "'''"
   ]
  }
 ],
 "metadata": {
  "kernelspec": {
   "display_name": "Python 3",
   "language": "python",
   "name": "python3"
  },
  "language_info": {
   "codemirror_mode": {
    "name": "ipython",
    "version": 3
   },
   "file_extension": ".py",
   "mimetype": "text/x-python",
   "name": "python",
   "nbconvert_exporter": "python",
   "pygments_lexer": "ipython3",
   "version": "3.6.3"
  }
 },
 "nbformat": 4,
 "nbformat_minor": 2
}
